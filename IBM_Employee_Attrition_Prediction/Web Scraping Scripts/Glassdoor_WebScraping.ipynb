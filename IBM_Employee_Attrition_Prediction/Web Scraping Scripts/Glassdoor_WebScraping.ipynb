{
  "nbformat": 4,
  "nbformat_minor": 0,
  "metadata": {
    "colab": {
      "name": "Glassdoor_WebScraping.ipynb",
      "provenance": []
    },
    "kernelspec": {
      "name": "python3",
      "display_name": "Python 3"
    }
  },
  "cells": [
    {
      "cell_type": "code",
      "metadata": {
        "id": "-6xDgIjH6Lsk",
        "colab_type": "code",
        "colab": {}
      },
      "source": [
        "import pandas as pd\n",
        "import requests\n",
        "from bs4 import BeautifulSoup\n",
        "import time"
      ],
      "execution_count": 0,
      "outputs": []
    },
    {
      "cell_type": "code",
      "metadata": {
        "id": "WIY5kkBq6MeQ",
        "colab_type": "code",
        "colab": {}
      },
      "source": [
        "headers = ['job_title', 'avg_salary', 'low_salary', 'high_salary']\n",
        "df = pd.DataFrame(columns=headers)"
      ],
      "execution_count": 0,
      "outputs": []
    },
    {
      "cell_type": "code",
      "metadata": {
        "id": "8W5-N2OC6Vwj",
        "colab_type": "code",
        "colab": {}
      },
      "source": [
        "web_pages = [\n",
        "    'https://www.glassdoor.com/Salaries/california-manager-salary-SRCH_IL.0,10_IS2280_KO11,18.htm',\n",
        "    'https://www.glassdoor.com/Salaries/los-angeles-sales-executive-salary-SRCH_IL.0,11_IM508_KO12,27.htm',\n",
        "    'https://www.glassdoor.com/Salaries/los-angeles-sales-representative-salary-SRCH_IL.0,11_IM508_KO12,32.htm',\n",
        "    'https://www.glassdoor.com/Salaries/california-healthcare-representative-salary-SRCH_IL.0,10_IS2280_KO11,36.htm',\n",
        "    'https://www.glassdoor.com/Salaries/california-human-resources-salary-SRCH_IL.0,10_IS2280_KO11,26.htm',\n",
        "    'https://www.glassdoor.com/Salaries/california-laboratory-technician-salary-SRCH_IL.0,10_IS2280_KO11,32.htm',\n",
        "    'https://www.glassdoor.com/Salaries/california-manufacturing-director-salary-SRCH_IL.0,10_IS2280_KO11,33.htm',\n",
        "    'https://www.glassdoor.com/Salaries/california-research-director-salary-SRCH_IL.0,10_IS2280_KO11,28.htm',\n",
        "    'https://www.glassdoor.com/Salaries/california-research-scientist-salary-SRCH_IL.0,10_IS2280_KO11,29.htm'\n",
        "]"
      ],
      "execution_count": 0,
      "outputs": []
    },
    {
      "cell_type": "code",
      "metadata": {
        "id": "1YK57a866ZQI",
        "colab_type": "code",
        "colab": {}
      },
      "source": [
        "for page in web_pages:\n",
        "    page_response = requests.get(page, headers={'User-Agent': 'Mozilla/5.0'}, timeout=5)\n",
        "    page_content = BeautifulSoup(page_response.content, \"html.parser\")\n",
        "    time.sleep(2)\n",
        "    row = {}\n",
        "    job = page_content.find('h1', {'class', 'undefined col-md-10 col-12'}).next\n",
        "    row['job_title'] = str(job).replace(' Salaries in California', '')\n",
        "    avg_salary = page_content.find('span', {'class', 'occMedianModule__OccMedianBasePayStyle__payNumber'})\n",
        "    row['avg_salary'] = str(avg_salary.next)\n",
        "    salary_range = page_content.find_all('div', {'class', 'common__HistogramStyle__labelWrapper'})\n",
        "    row['high_salary'] = str(salary_range.__getitem__(salary_range.__len__()-1).next)\n",
        "    row['low_salary'] = str(salary_range.__getitem__(0).next)\n",
        "\n",
        "    df = df.append(row, ignore_index=True)"
      ],
      "execution_count": 0,
      "outputs": []
    },
    {
      "cell_type": "code",
      "metadata": {
        "id": "ah-8wESC6e-6",
        "colab_type": "code",
        "colab": {
          "base_uri": "https://localhost:8080/",
          "height": 221
        },
        "outputId": "2087669d-11f2-431b-a352-b7f69bc3b2fa"
      },
      "source": [
        "print(df)\n",
        "\n",
        "df.to_csv('salaries.csv')"
      ],
      "execution_count": 7,
      "outputs": [
        {
          "output_type": "stream",
          "text": [
            "                                           job_title  ... high_salary\n",
            "0                                            Manager  ...       $113K\n",
            "1   Sales Executive Salaries in Los Angeles, CA Area  ...       $127K\n",
            "2  Sales Representative Salaries in Los Angeles, ...  ...        $93K\n",
            "3                          Healthcare Representative  ...        $40K\n",
            "4                                    Human Resources  ...        $88K\n",
            "5                              Laboratory Technician  ...        $47K\n",
            "6                             Manufacturing Director  ...       $171K\n",
            "7                                  Research Director  ...       $168K\n",
            "8                                 Research Scientist  ...       $112K\n",
            "\n",
            "[9 rows x 4 columns]\n"
          ],
          "name": "stdout"
        }
      ]
    }
  ]
}